{
 "cells": [
  {
   "cell_type": "code",
   "execution_count": null,
   "id": "5a5caabe",
   "metadata": {},
   "outputs": [],
   "source": [
    "import pandas as pd\n",
    "import matplotlib.pyplot as plt \n",
    "import os\n",
    "import matplotlib.cm as cm"
   ]
  },
  {
   "cell_type": "code",
   "execution_count": null,
   "id": "aa403d1a",
   "metadata": {},
   "outputs": [],
   "source": [
    "folders = [\"result_sf1/\", \"result_sf2/\", \"result_sf5/\"]\n",
    "scales = [\"sf1\", \"sf2\", \"sf5\"]\n",
    "variations = [\"all\", \"dates_text\", \"dates\", \"no_index\", \"numbers_dates\", \"numbers_text\", \"numbers\", \"text\", \"default_index\"]"
   ]
  },
  {
   "cell_type": "code",
   "execution_count": null,
   "id": "03bf4a5f",
   "metadata": {},
   "outputs": [],
   "source": [
    "folder = \"result_sf1/\"\n",
    "file = \"index_stats_numbers.csv\"\n",
    "kb_in_one_mb = 1024\n",
    "bytes_in_one_mb = 1_048_576\n",
    "mb_in_one_gb = 1024"
   ]
  },
  {
   "cell_type": "code",
   "execution_count": null,
   "id": "df217e91",
   "metadata": {},
   "outputs": [],
   "source": [
    "df = pd.read_csv(folder+file)"
   ]
  },
  {
   "cell_type": "code",
   "execution_count": null,
   "id": "73bb6448",
   "metadata": {},
   "outputs": [],
   "source": [
    "df.dropna(inplace=True)"
   ]
  },
  {
   "cell_type": "code",
   "execution_count": null,
   "id": "c2adb116",
   "metadata": {},
   "outputs": [],
   "source": [
    "def to_mb(row):\n",
    "   units = [\"kB\", \"bytes\", \"GB\"]\n",
    "   if not any(unit in row for unit in units):\n",
    "      return row\n",
    "   \n",
    "   splitted = row.split()\n",
    "   number = float(splitted[0])\n",
    "   \n",
    "   if \"kB\" in row:\n",
    "      mb = number / kb_in_one_mb\n",
    "   elif \"GB\" in row:\n",
    "      mb = number * mb_in_one_gb\n",
    "   else: # bytes\n",
    "      mb = number / bytes_in_one_mb\n",
    "   \n",
    "   return str(mb) + \" MB\""
   ]
  },
  {
   "cell_type": "code",
   "execution_count": null,
   "id": "3ede9414",
   "metadata": {},
   "outputs": [],
   "source": [
    "def clean_mb_to_number(row):\n",
    "   \n",
    "   if \"MB\" not in row:\n",
    "      return row\n",
    "   \n",
    "   row = row.replace(\"MB\", \"\").strip()\n",
    "   return float(row)"
   ]
  },
  {
   "cell_type": "code",
   "execution_count": null,
   "id": "c3d5f67f",
   "metadata": {},
   "outputs": [],
   "source": [
    "# columns that can contain kb\n",
    "kb_columns = [\"Total Size\",\"Total Size of all Indexes\", \"Table Size\", \"Index Size\"]\n",
    "# Columns that \n",
    "mb_columns = [\"Total Size MB\",\"Total Size of all Indexes MB\", \"Table Size MB\", \"Index Size MB\"]\n"
   ]
  },
  {
   "cell_type": "code",
   "execution_count": null,
   "id": "36d593a8",
   "metadata": {},
   "outputs": [],
   "source": [
    "def drop_and_convert_to_mb(df: pd.DataFrame, columns: list[str]) -> pd.DataFrame:\n",
    "   df = df.copy()\n",
    "   for column in columns:\n",
    "      df[column + \" MB\"] = df[column].apply(to_mb)\n",
    "   dropped_df = df.drop(columns=columns)\n",
    "   return dropped_df\n",
    "\n",
    "def drop_mb_convert_to_float(df: pd.DataFrame, columns: list[str])-> pd.DataFrame:\n",
    "   df = df.copy()\n",
    "   for column in columns:\n",
    "      df[column] = df[column].apply(clean_mb_to_number)\n",
    "   return df\n",
    "\n",
    "def get_table_info(df: pd.DataFrame)-> pd.DataFrame:\n",
    "   table_info = df.drop_duplicates(subset=[\"Table Name\"])\n",
    "   return table_info.drop(columns=[\"Index Size MB\", \"Index Name\"])\n",
    "\n",
    "def clean_and_table_info(df : pd.DataFrame) -> pd.DataFrame:\n",
    "   df = df.copy()\n",
    "   df_nona = df.dropna()\n",
    "   df_mb = drop_and_convert_to_mb(df_nona, kb_columns)\n",
    "   df_mb_numbers = drop_mb_convert_to_float(df_mb, mb_columns)\n",
    "   table_info = get_table_info(df_mb_numbers)\n",
    "   return table_info"
   ]
  },
  {
   "cell_type": "code",
   "execution_count": null,
   "id": "c36c02e8",
   "metadata": {},
   "outputs": [],
   "source": [
    "table_info = clean_and_table_info(df)"
   ]
  },
  {
   "cell_type": "code",
   "execution_count": null,
   "id": "d97aba08",
   "metadata": {},
   "outputs": [],
   "source": [
    "table_info"
   ]
  },
  {
   "cell_type": "code",
   "execution_count": null,
   "id": "6cc80581",
   "metadata": {},
   "outputs": [],
   "source": []
  },
  {
   "cell_type": "code",
   "execution_count": null,
   "id": "04983895",
   "metadata": {},
   "outputs": [],
   "source": [
    "def get_total_size_sum(df: pd.DataFrame):\n",
    "   return df[\"Total Size MB\"].sum()\n",
    "\n",
    "def get_table_size_sum(df: pd.DataFrame):\n",
    "   return df[\"Table Size MB\"].sum()\n",
    "\n",
    "def get_sum(df: pd.DataFrame, column: str):\n",
    "   return df[column].sum()"
   ]
  },
  {
   "cell_type": "code",
   "execution_count": null,
   "id": "615292c3",
   "metadata": {},
   "outputs": [],
   "source": [
    "table_size = get_table_size_sum(table_info)\n",
    "total_size = get_total_size_sum(table_info)\n",
    "index_size = get_sum(table_info, \"Total Size of all Indexes MB\")\n",
    "print(table_size, total_size)"
   ]
  },
  {
   "cell_type": "code",
   "execution_count": null,
   "id": "e1ccc5e5",
   "metadata": {},
   "outputs": [],
   "source": [
    "table_info"
   ]
  },
  {
   "cell_type": "code",
   "execution_count": null,
   "id": "02460e4b",
   "metadata": {},
   "outputs": [],
   "source": [
    "columns = [\"scale\", \"index\", \"index_size\", \"table_size\", \"total_size\" ]\n",
    "data = pd.DataFrame(columns=columns)\n"
   ]
  },
  {
   "cell_type": "code",
   "execution_count": null,
   "id": "358ba7f2",
   "metadata": {},
   "outputs": [],
   "source": [
    "for scale in scales:\n",
    "   for variation in variations:\n",
    "      path = \"result_\" + scale + \"/\" + \"index_stats_\" + variation + \".csv\"\n",
    "      df = pd.read_csv(path)\n",
    "      table_info = clean_and_table_info(df)\n",
    "\n",
    "      table_size_sum = get_table_size_sum(table_info)\n",
    "      index_size_sum = get_sum(table_info, \"Total Size of all Indexes MB\")\n",
    "      total_size_sum = get_total_size_sum(table_info)\n",
    "      data.loc[len(data)] = [scale, variation, index_size_sum, table_size_sum, total_size_sum]\n",
    "\n",
    "      print(f\"{folder + variation} - table: {table_size_sum} + index: {index_size_sum} = total_size {total_size_sum}\")\n"
   ]
  },
  {
   "cell_type": "code",
   "execution_count": null,
   "id": "b2a60f7a",
   "metadata": {},
   "outputs": [],
   "source": [
    "sf1 = data[data[\"scale\"]==\"sf1\"]\n",
    "sf2 = data[data[\"scale\"]==\"sf2\"]\n",
    "sf5 = data[data[\"scale\"]==\"sf5\"]"
   ]
  },
  {
   "cell_type": "code",
   "execution_count": null,
   "id": "e7edec8b",
   "metadata": {},
   "outputs": [],
   "source": [
    "sf5"
   ]
  },
  {
   "cell_type": "code",
   "execution_count": null,
   "id": "e1c6b340",
   "metadata": {},
   "outputs": [],
   "source": [
    "if not os.path.exists(\"imgs\"):\n",
    "   os.makedirs(\"imgs\")"
   ]
  },
  {
   "cell_type": "code",
   "execution_count": null,
   "id": "69a84006",
   "metadata": {},
   "outputs": [],
   "source": [
    "plt.rcParams.update({'font.size': 12})  # Set default font size for all text\n",
    "def create_barplot(data:pd.DataFrame, scale: str):\n",
    "   plt.figure(figsize=(8,8))\n",
    "   sf = data[data[\"scale\"]==scale]\n",
    "   # sf_sorted = sf.sort_values(by=\"index_size\", ascending=False)\n",
    "   n_bars = len(variations)\n",
    "   colors = cm.get_cmap('tab10', n_bars).colors\n",
    "   axes = sf.plot(kind='bar', y=\"index_size\", color=colors)\n",
    "   axes.legend().set_visible(False)\n",
    "   axes.set_xticklabels(sf[\"index\"], rotation=45, ha='right')\n",
    "   axes.get_yticklabels()\n",
    "   axes.spines[\"top\"].set_visible(False)\n",
    "   axes.spines[\"left\"].set_visible(False)\n",
    "   axes.spines[\"right\"].set_visible(False)\n",
    "   \n",
    "   axes.yaxis.grid(True, which='major', linestyle='--', linewidth=0.7, zorder=0)\n",
    "   axes.set_xlabel(\"Index\")\n",
    "   axes.set_ylabel(\"Storage overhead (MB)\")\n",
    "   axes.set_title(f\"Storage overhead for indexing scale {scale.replace(\"sf\", \"\")} GB\", fontweight=\"bold\")\n",
    "   plt.tight_layout()\n",
    "   plt.savefig(f\"imgs/index_size_{scale}\",dpi=300)"
   ]
  },
  {
   "cell_type": "code",
   "execution_count": null,
   "id": "00f35955",
   "metadata": {},
   "outputs": [],
   "source": [
    "create_barplot(data, \"sf1\")"
   ]
  },
  {
   "cell_type": "code",
   "execution_count": null,
   "id": "9b571881",
   "metadata": {},
   "outputs": [],
   "source": [
    "create_barplot(data, \"sf2\")\n"
   ]
  },
  {
   "cell_type": "code",
   "execution_count": null,
   "id": "b91cea85",
   "metadata": {},
   "outputs": [],
   "source": [
    "create_barplot(data, \"sf5\")\n"
   ]
  }
 ],
 "metadata": {
  "kernelspec": {
   "display_name": "csp",
   "language": "python",
   "name": "python3"
  },
  "language_info": {
   "codemirror_mode": {
    "name": "ipython",
    "version": 3
   },
   "file_extension": ".py",
   "mimetype": "text/x-python",
   "name": "python",
   "nbconvert_exporter": "python",
   "pygments_lexer": "ipython3",
   "version": "3.12.9"
  }
 },
 "nbformat": 4,
 "nbformat_minor": 5
}
