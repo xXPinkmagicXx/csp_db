{
 "cells": [
  {
   "cell_type": "code",
   "execution_count": null,
   "id": "7ad69fe4",
   "metadata": {},
   "outputs": [],
   "source": [
    "import pandas as pd\n",
    "import matplotlib.pyplot as plt\n",
    "import os\n",
    "import numpy as np\n",
    "import matplotlib.cm as cm"
   ]
  },
  {
   "cell_type": "code",
   "execution_count": null,
   "id": "198cc27e",
   "metadata": {},
   "outputs": [],
   "source": [
    "folders = [\"result_sf1/\", \"result_sf2/\", \"result_sf5/\"]\n",
    "scales = [\"sf1\", \"sf2\", \"sf5\"]\n",
    "variations = [\"all\", \"dates_text\", \"dates\", \"no_index\", \"numbers_dates\", \"numbers_text\", \"numbers\", \"text\", \"default_index\"]"
   ]
  },
  {
   "cell_type": "code",
   "execution_count": null,
   "id": "b7dd15ee",
   "metadata": {},
   "outputs": [],
   "source": [
    "def read_log_file(path):\n",
    "   filecontent = \"\"\n",
    "   with open(path, \"r\") as f:\n",
    "      filecontent = f.readlines()\n",
    "   return filecontent\n"
   ]
  },
  {
   "cell_type": "code",
   "execution_count": null,
   "id": "57339e67",
   "metadata": {},
   "outputs": [],
   "source": [
    "filecontent = read_log_file(\"result_sf1/results_all.log\")"
   ]
  },
  {
   "cell_type": "code",
   "execution_count": null,
   "id": "3d763f83",
   "metadata": {},
   "outputs": [],
   "source": [
    "def get_query_number(line: str)->int:\n",
    "   splitted = line.split(\" \")\n",
    "   return int(splitted[1])\n",
    "\n",
    "def get_numbers(line: str):\n",
    "   splitted = line.split(\",\")\n",
    "   numbers = [float(number) for number in splitted]\n",
    "   return numbers\n"
   ]
  },
  {
   "cell_type": "code",
   "execution_count": null,
   "id": "3256d70e",
   "metadata": {},
   "outputs": [],
   "source": [
    "def get_execution_times(line:str):\n",
    "   splitted = line.split(\":\")\n",
    "   text = splitted[0]\n",
    "   query_number = get_query_number(text)\n",
    "   numbers_text = splitted[1]\n",
    "   numbers_list = get_numbers(numbers_text)\n",
    "\n",
    "   return query_number, numbers_list\n",
    "   \n",
    "\n"
   ]
  },
  {
   "cell_type": "code",
   "execution_count": null,
   "id": "8fb2e652",
   "metadata": {},
   "outputs": [],
   "source": [
    "get_execution_times(\"Query 2 execution times in seconds: 0.154,0.153,0.152,0.148,0.153,0.148,0.153,0.152,0.151,0.149\")"
   ]
  },
  {
   "cell_type": "code",
   "execution_count": null,
   "id": "5922b878",
   "metadata": {},
   "outputs": [],
   "source": [
    "def get_query_numbers_and_exec_time(filecontent: list[str]):\n",
    "   query_numbers = []\n",
    "   execution_times = []\n",
    "   for line in filecontent:\n",
    "      if not \"execution times\" in line:\n",
    "         continue\n",
    "      query_number, ex_times = get_execution_times(line.strip())\n",
    "      query_numbers.append(query_number)\n",
    "      execution_times.append(ex_times)\n",
    "   return query_numbers, execution_times"
   ]
  },
  {
   "cell_type": "code",
   "execution_count": null,
   "id": "23a2cd23",
   "metadata": {},
   "outputs": [],
   "source": [
    "columns = [\"scale\", \"avg\"]"
   ]
  },
  {
   "cell_type": "code",
   "execution_count": null,
   "id": "9d0827e3",
   "metadata": {},
   "outputs": [],
   "source": [
    "for scale in scales:\n",
    "   df = pd.DataFrame(columns=variations)\n",
    "   for variation in variations:\n",
    "      folder = \"result_\" + scale + \"/\" \n",
    "      path =  folder + \"results_\" + variation + \".log\"\n",
    "      filecontent = read_log_file(path)\n",
    "      query_numbers, execution_times = get_query_numbers_and_exec_time(filecontent)\n",
    "      df[variation] = [np.mean(exec_time) * 1000 for exec_time in execution_times]\n",
    "   df.to_csv(folder + \"avg_exec_time.csv\", index=False)\n"
   ]
  },
  {
   "cell_type": "code",
   "execution_count": null,
   "id": "19723a18",
   "metadata": {},
   "outputs": [],
   "source": [
    "def display_query(df: pd.DataFrame, scale: str, query: int):\n",
    "   if query > 22 or query < 0:\n",
    "      raise ValueError()\n",
    "   \n",
    "   plt.figure()\n",
    "   row = df.iloc[query-1]\n",
    "   row.plot(kind=\"bar\")\n",
    "   plt.title(f\"{scale} - Q{query}\")\n",
    "   plt.show()\n",
    "\n",
    "def display_query_for_scale(scale: str, query:int):\n",
    "   path = \"result_\" + scale + \"/\" + \"avg_exec_time.csv\"\n",
    "   df = pd.read_csv(path)\n",
    "   display_query(df, scale, query)\n",
    "   "
   ]
  },
  {
   "cell_type": "code",
   "execution_count": null,
   "id": "3844c0f5",
   "metadata": {},
   "outputs": [],
   "source": [
    "def display_4_queries(scale: str, four_quries:list[int]):\n",
    "   path = f\"result_{scale}/avg_exec_time.csv\"\n",
    "   df = pd.read_csv(path)\n",
    "   fig, axes = plt.subplots(2, 2, figsize=(8, 8))  # 6 rows, 4 columns\n",
    "\n",
    "   for i in range(1, 5):  # Assuming 22 queries, adjust if needed\n",
    "      row = (i - 1) // 2\n",
    "      col = (i - 1) % 2\n",
    "      ax = axes[row, col]\n",
    "      # Ge query index from the list\n",
    "      query_idx = four_quries[i-1]\n",
    "      # query_idx \n",
    "      df.iloc[query_idx-1].plot(kind=\"bar\", ax=ax)\n",
    "      ax.set_title(f\"Query {four_quries[i-1]}\")\n",
    "      ax.set_xticklabels(ax.get_xticklabels(), rotation=45, ha='right')  # Rotate x-tick labels\n",
    "      ax.spines[\"top\"].set_visible(False)\n",
    "      ax.spines[\"right\"].set_visible(False)\n",
    "      ax.spines[\"left\"].set_visible(False)\n",
    "      ax.set_yticks(range(0, 201, 50))\n",
    "\n",
    "   # Hide any unused subplots\n",
    "   plt.tight_layout()\n",
    "   plt.savefig(f\"imgs/fig_{scale}_sub\")\n",
    "   plt.show()"
   ]
  },
  {
   "cell_type": "code",
   "execution_count": null,
   "id": "50e0ce75",
   "metadata": {},
   "outputs": [],
   "source": [
    "df"
   ]
  },
  {
   "cell_type": "code",
   "execution_count": null,
   "id": "87f41430",
   "metadata": {},
   "outputs": [],
   "source": [
    "display_4_queries(\"sf1\", [4, 5, 9, 21])\n"
   ]
  },
  {
   "cell_type": "code",
   "execution_count": null,
   "id": "e72f55a4",
   "metadata": {},
   "outputs": [],
   "source": [
    "def display_all_queries_for_scale(scale: str):\n",
    "    path = f\"result_{scale}/avg_exec_time.csv\"\n",
    "    df = pd.read_csv(path)\n",
    "    fig, axes = plt.subplots(6, 4, figsize=(20, 18))  # 6 rows, 4 columns\n",
    "\n",
    "    for i in range(1, 23):  # Assuming 22 queries, adjust if needed\n",
    "        row = (i - 1) // 4\n",
    "        col = (i - 1) % 4\n",
    "        ax = axes[row, col]\n",
    "        df.iloc[i-1].plot(kind=\"bar\", ax=ax)\n",
    "        ax.set_title(f\"Query {i}\")\n",
    "\n",
    "    # Hide any unused subplots\n",
    "    for j in range(22, 24):\n",
    "        row = j // 4\n",
    "        col = j % 4\n",
    "        axes[row, col].axis('off')\n",
    "\n",
    "    plt.tight_layout()\n",
    "    plt.savefig(f\"imgs/fig_{scale}_all\")\n",
    "    plt.show()\n",
    "\n",
    "# Example usage:\n",
    "display_all_queries_for_scale(\"sf1\")"
   ]
  },
  {
   "cell_type": "code",
   "execution_count": null,
   "id": "f2693835",
   "metadata": {},
   "outputs": [],
   "source": [
    "def display_4_queries_all_scales_grid(four_queries: list[int]):\n",
    "    scales = [\"sf1\", \"sf2\", \"sf5\"]  # Add/remove scales as needed\n",
    "    fig, axes = plt.subplots(len(four_queries), len(scales), figsize=(12, 12))  # rows: queries, cols: scales\n",
    "    for col, scale in enumerate(scales):\n",
    "        path = f\"result_{scale}/avg_exec_time.csv\"\n",
    "        df = pd.read_csv(path)\n",
    "        for row, query_idx in enumerate(four_queries):\n",
    "            ax = axes[row, col]\n",
    "            if col == 0:\n",
    "               ax.set_ylabel(f\"Q{query_idx} - exec time (ms)\")\n",
    "            \n",
    "            n_bars = len(df.columns)\n",
    "            colors = cm.get_cmap('tab10', n_bars).colors\n",
    "            df.iloc[query_idx-1].plot(kind=\"bar\", ax=ax, zorder=1, color=colors)\n",
    "            if row == 0:\n",
    "               ax.set_title(f\"{scale.upper()}\")\n",
    "\n",
    "            \n",
    "            ax.set_yticks(range(0, 201, 50))\n",
    "            ax.spines[\"top\"].set_visible(False)\n",
    "            ax.spines[\"right\"].set_visible(False)\n",
    "            ax.spines[\"left\"].set_visible(False)\n",
    "            ax.yaxis.grid(True, which='major', linestyle='--', linewidth=0.7, zorder=0)\n",
    "            if row != len(four_queries) - 1:\n",
    "                ax.set_xticklabels(\"\")  # Hide x-labels except for last row\n",
    "            else:\n",
    "               ax.set_xticklabels(ax.get_xticklabels(), rotation=45, ha='right')\n",
    "            \n",
    "\n",
    "    fig.suptitle(\"Execution time (ms) for the queries \" + \", \".join([\"Q\"+str(value) for value in four_queries]), fontweight=\"bold\", fontsize=14)\n",
    "    plt.tight_layout()\n",
    "    plt.savefig(\"imgs/4_queries_all_scales_grid.png\")\n",
    "    plt.show()\n",
    "\n",
    "# Example usage:\n",
    "display_4_queries_all_scales_grid([4, 9, 13, 19])"
   ]
  },
  {
   "cell_type": "code",
   "execution_count": null,
   "id": "4d7bcc7e",
   "metadata": {},
   "outputs": [],
   "source": []
  }
 ],
 "metadata": {
  "kernelspec": {
   "display_name": "csp",
   "language": "python",
   "name": "python3"
  },
  "language_info": {
   "codemirror_mode": {
    "name": "ipython",
    "version": 3
   },
   "file_extension": ".py",
   "mimetype": "text/x-python",
   "name": "python",
   "nbconvert_exporter": "python",
   "pygments_lexer": "ipython3",
   "version": "3.12.9"
  }
 },
 "nbformat": 4,
 "nbformat_minor": 5
}
